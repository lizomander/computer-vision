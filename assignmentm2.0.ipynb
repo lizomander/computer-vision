{
 "cells": [
  {
   "cell_type": "code",
   "execution_count": 18,
   "metadata": {},
   "outputs": [],
   "source": [
    "import torchvision.transforms as transforms\n",
    "import numpy as np\n",
    "import pandas as pd \n",
    "import matplotlib.pyplot as plt\n",
    "from torch.utils.data import Dataset\n",
    "import os \n",
    "from PIL import Image"
   ]
  },
  {
   "cell_type": "code",
   "execution_count": 19,
   "metadata": {},
   "outputs": [
    {
     "data": {
      "text/html": [
       "<div>\n",
       "<style scoped>\n",
       "    .dataframe tbody tr th:only-of-type {\n",
       "        vertical-align: middle;\n",
       "    }\n",
       "\n",
       "    .dataframe tbody tr th {\n",
       "        vertical-align: top;\n",
       "    }\n",
       "\n",
       "    .dataframe thead th {\n",
       "        text-align: right;\n",
       "    }\n",
       "</style>\n",
       "<table border=\"1\" class=\"dataframe\">\n",
       "  <thead>\n",
       "    <tr style=\"text-align: right;\">\n",
       "      <th></th>\n",
       "      <th>filename</th>\n",
       "      <th>max_x</th>\n",
       "      <th>max_y</th>\n",
       "      <th>min_x</th>\n",
       "      <th>min_y</th>\n",
       "      <th>label</th>\n",
       "    </tr>\n",
       "  </thead>\n",
       "  <tbody>\n",
       "    <tr>\n",
       "      <th>0</th>\n",
       "      <td>AgNOR_0495.tiff</td>\n",
       "      <td>26</td>\n",
       "      <td>41</td>\n",
       "      <td>4</td>\n",
       "      <td>15</td>\n",
       "      <td>1</td>\n",
       "    </tr>\n",
       "    <tr>\n",
       "      <th>1</th>\n",
       "      <td>AgNOR_0495.tiff</td>\n",
       "      <td>71</td>\n",
       "      <td>23</td>\n",
       "      <td>42</td>\n",
       "      <td>0</td>\n",
       "      <td>2</td>\n",
       "    </tr>\n",
       "    <tr>\n",
       "      <th>2</th>\n",
       "      <td>AgNOR_0495.tiff</td>\n",
       "      <td>133</td>\n",
       "      <td>61</td>\n",
       "      <td>104</td>\n",
       "      <td>37</td>\n",
       "      <td>1</td>\n",
       "    </tr>\n",
       "    <tr>\n",
       "      <th>3</th>\n",
       "      <td>AgNOR_0495.tiff</td>\n",
       "      <td>143</td>\n",
       "      <td>117</td>\n",
       "      <td>121</td>\n",
       "      <td>88</td>\n",
       "      <td>2</td>\n",
       "    </tr>\n",
       "    <tr>\n",
       "      <th>4</th>\n",
       "      <td>AgNOR_0495.tiff</td>\n",
       "      <td>224</td>\n",
       "      <td>37</td>\n",
       "      <td>199</td>\n",
       "      <td>12</td>\n",
       "      <td>1</td>\n",
       "    </tr>\n",
       "  </tbody>\n",
       "</table>\n",
       "</div>"
      ],
      "text/plain": [
       "          filename  max_x  max_y  min_x  min_y  label\n",
       "0  AgNOR_0495.tiff     26     41      4     15      1\n",
       "1  AgNOR_0495.tiff     71     23     42      0      2\n",
       "2  AgNOR_0495.tiff    133     61    104     37      1\n",
       "3  AgNOR_0495.tiff    143    117    121     88      2\n",
       "4  AgNOR_0495.tiff    224     37    199     12      1"
      ]
     },
     "execution_count": 19,
     "metadata": {},
     "output_type": "execute_result"
    }
   ],
   "source": [
    "df = pd.read_csv(\"annotation_frame.csv\")\n",
    "df.head()"
   ]
  },
  {
   "cell_type": "code",
   "execution_count": 20,
   "metadata": {},
   "outputs": [],
   "source": [
    "# define the custom augementations \n",
    "\n",
    "class CustomAugmentation:\n",
    "    def guassian_blur(self,img):\n",
    "        kernel_size = np.random.choice([3, 5, 7])  # Randomly choose kernel size\n",
    "\n",
    "        # Convert PIL Image to NumPy array\n",
    "        img_np = np.array(img)\n",
    "\n",
    "        # Apply blur to each channel separately\n",
    "        blurred_img = np.zeros_like(img_np)\n",
    "        for i in range(img_np.shape[2]):\n",
    "            blurred_img[:, :, i] = self.convolution(img_np[:, :, i], self.gaussian_kernel(kernel_size))\n",
    "        \n",
    "        # Convert NumPy array back to PIL Image\n",
    "        blurred_img_pil = Image.fromarray(blurred_img)\n",
    "\n",
    "        return blurred_img_pil\n",
    "    \n",
    "  \n",
    "    def color_jitter(self,image, brightness=1, contrast=2.5, saturation=1.5, hue=0.5):\n",
    "        # Apply color jitter to the image\n",
    "        image = transforms.functional.adjust_brightness(image, brightness)\n",
    "        image = transforms.functional.adjust_contrast(image, contrast)\n",
    "        image = transforms.functional.adjust_saturation(image, saturation)\n",
    "        image = transforms.functional.adjust_hue(image, hue)\n",
    "        \n",
    "        return image\n",
    "        \n",
    "\n",
    "    def gaussian_kernel(self, size, sigma=1):\n",
    "        \"\"\"\n",
    "        Generate a 2D Gaussian kernel.\n",
    "        Args:\n",
    "            size (int): Size of the kernel (should be odd).\n",
    "            sigma (float): Standard deviation of the Gaussian distribution.\n",
    "        Returns:\n",
    "            numpy.ndarray: 2D Gaussian kernel.\n",
    "        \"\"\"\n",
    "        kernel = np.fromfunction(lambda x, y: (1 / (2 * np.pi * sigma ** 2)) * np.exp(\n",
    "            -(x - size // 2) ** 2 / (2 * sigma ** 2) - (y - size // 2) ** 2 / (2 * sigma ** 2)),\n",
    "                                  (size, size))\n",
    "        return kernel / np.sum(kernel)\n",
    "    \n",
    "    def convolution(self, img, kernel):\n",
    "        \"\"\"\n",
    "        Perform 2D convolution between image and kernel.\n",
    "        Args:\n",
    "            img (numpy.ndarray): Input image.\n",
    "            kernel (numpy.ndarray): Convolution kernel.\n",
    "        Returns:\n",
    "            numpy.ndarray: Convolved image.\n",
    "        \"\"\"\n",
    "        padding = kernel.shape[0] // 2\n",
    "        img_padded = np.pad(img, padding, mode='constant')\n",
    "        convolved_img = np.zeros_like(img)\n",
    "        for i in range(img.shape[0]):\n",
    "            for j in range(img.shape[1]):\n",
    "                convolved_img[i, j] = np.sum(img_padded[i:i + kernel.shape[0], j:j + kernel.shape[1]] * kernel)\n",
    "        return convolved_img\n",
    "    \n"
   ]
  },
  {
   "cell_type": "code",
   "execution_count": 21,
   "metadata": {},
   "outputs": [],
   "source": [
    "class AGNORsDataset(Dataset):\n",
    "    def __init__(self, df, num_samples=1000 , img_dir='AgNORs/'):\n",
    "        self.df = df\n",
    "        self.num_samples = num_samples\n",
    "        self.init_samples() \n",
    "        self.img_path = img_dir\n",
    "        self.transform = self.transforms() \n",
    "\n",
    "    \n",
    "    def transforms(self):\n",
    "        custom_augmentations = CustomAugmentation()\n",
    "        transform = transforms.Compose([\n",
    "            transforms.Resize((50,50)),\n",
    "            transforms.Lambda(custom_augmentations.color_jitter),\n",
    "            transforms.Lambda(custom_augmentations.guassian_blur),\n",
    "            transforms.ToTensor(),\n",
    "    \n",
    "        ])\n",
    "        return transform\n",
    "\n",
    "\n",
    "    def init_samples(self):\n",
    "        num_samples_per_class = self.num_samples // len(self.df['label'].unique())\n",
    "        \n",
    "        minority_samples = []\n",
    "        for label in self.df['label'].unique():\n",
    "            minority_samples.append(self.df[self.df['label'] == label].sample(num_samples_per_class, replace=True))\n",
    "        minority_df = pd.concat(minority_samples)\n",
    "\n",
    "        majority_samples = self.df[~self.df.index.isin(minority_df.index)].sample(self.num_samples - len(minority_df), replace=True)\n",
    "\n",
    "        self.samples = pd.concat([minority_df, majority_samples])\n",
    "\n",
    "        return self.samples \n",
    "\n",
    "    def __len__(self):\n",
    "        return len(self.samples)\n",
    "\n",
    "    def __getitem__(self, idx):\n",
    "        img_path = os.path.join(self.img_path, self.df.iloc[idx, 0])\n",
    "        label = self.samples.iloc[idx]['label']\n",
    "        img = Image.open(img_path).convert('RGB')\n",
    "        crop_image = img.crop((self.df.iloc[idx, 3], self.df.iloc[idx, 4], self.df.iloc[idx, 1], self.df.iloc[idx, 2])) \n",
    "        img = self.transform(crop_image)\n",
    "        \n",
    "        return img, label"
   ]
  },
  {
   "cell_type": "code",
   "execution_count": 22,
   "metadata": {},
   "outputs": [
    {
     "data": {
      "text/plain": [
       "<matplotlib.image.AxesImage at 0x13e0ba660>"
      ]
     },
     "execution_count": 22,
     "metadata": {},
     "output_type": "execute_result"
    },
    {
     "data": {
      "image/png": "[encoded data removed]",
      "text/plain": [
       "<Figure size 640x480 with 1 Axes>"
      ]
     },
     "metadata": {},
     "output_type": "display_data"
    }
   ],
   "source": [
    "data = AGNORsDataset(df)\n",
    "\n",
    "img = data.__getitem__(99)[0]\n",
    "\n",
    "img_np = img.permute(1, 2, 0).numpy()\n",
    "\n",
    "# img_np = transforms.ToPILImage()(img)\n",
    "plt.imshow(img_np)\n",
    "\n",
    "# img_np.show()\n"
   ]
  },
  {
   "cell_type": "code",
   "execution_count": 23,
   "metadata": {},
   "outputs": [],
   "source": [
    "samples = data.init_samples()"
   ]
  },
  {
   "cell_type": "code",
   "execution_count": 24,
   "metadata": {},
   "outputs": [
    {
     "data": {
      "image/png": "[encoded data removed]",
      "text/plain": [
       "<Figure size 1000x600 with 1 Axes>"
      ]
     },
     "metadata": {},
     "output_type": "display_data"
    }
   ],
   "source": [
    "plt.figure(figsize=(10,6))\n",
    "samples['label'].value_counts().sort_index().plot(kind='bar')\n",
    "plt.title('Distribution of the labels')\n",
    "plt.xlabel('Labels')\n",
    "plt.ylabel('No of annotations')\n",
    "plt.xticks(rotation=45)\n",
    "plt.grid(axis='y')\n",
    "plt.show()"
   ]
  }
 ],
 "metadata": {
  "kernelspec": {
   "display_name": "Python 3",
   "language": "python",
   "name": "python3"
  },
  "language_info": {
   "codemirror_mode": {
    "name": "ipython",
    "version": 3
   },
   "file_extension": ".py",
   "mimetype": "text/x-python",
   "name": "python",
   "nbconvert_exporter": "python",
   "pygments_lexer": "ipython3",
   "version": "3.12.7"
  }
 },
 "nbformat": 4,
 "nbformat_minor": 2
}
